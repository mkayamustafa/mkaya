{
 "cells": [
  {
   "cell_type": "code",
   "execution_count": 1,
   "metadata": {},
   "outputs": [
    {
     "name": "stdout",
     "output_type": "stream",
     "text": [
      "3 +i 5\n",
      "1\n",
      "2\n",
      "3\n",
      "6\n"
     ]
    }
   ],
   "source": [
    "import numpy\n",
    "\n",
    "def faktor(x):\n",
    "    f=1\n",
    "    for i in range(1,x,1):\n",
    "        f=f*(x-1)\n",
    "        print(i)\n",
    "        x=x-1\n",
    "    return f\n",
    "\n",
    "class komplex():\n",
    "    def __init__(self,re,im):\n",
    "        self.re=re\n",
    "        self.im=im\n",
    "    def yaz(self):\n",
    "        print(self.re,\"+i\",self.im)\n",
    "\n",
    "k=komplex(3,5)\n",
    "k.yaz()\n",
    "print(faktor(4))"
   ]
  },
  {
   "cell_type": "code",
   "execution_count": 2,
   "metadata": {},
   "outputs": [
    {
     "name": "stdout",
     "output_type": "stream",
     "text": [
      "( 3 + 5 )\n",
      "3\n"
     ]
    }
   ],
   "source": [
    "class kompleks():\n",
    "    def __init__(self,re,im):\n",
    "        self.re=re\n",
    "        self.im=im\n",
    "\n",
    "    def yaz(self):\n",
    "        print(\"(\",self.re,\"+\",self.im,\")\")\n",
    "a=kompleks(3,5)\n",
    "a.yaz()\n",
    "print(a.re)"
   ]
  },
  {
   "cell_type": "code",
   "execution_count": 3,
   "metadata": {},
   "outputs": [
    {
     "name": "stdout",
     "output_type": "stream",
     "text": [
      "4\n",
      "4\n"
     ]
    }
   ],
   "source": [
    "import numpy\n",
    "\n",
    "class eleman():\n",
    "    def __init__(self,veri,next):\n",
    "        self.veri=veri\n",
    "        self.next=None\n",
    "\n",
    "class list():\n",
    "    def __init__(self,head=None,tail=None):\n",
    "        self.head=head\n",
    "        self.tail=tail\n",
    "    \n",
    "    def empty(self):\n",
    "        return(self==None)\n",
    "\n",
    "e=eleman(4,None)\n",
    "print (e.veri)\n",
    "l1=list(e,None)\n",
    "print (l1.head.veri)"
   ]
  },
  {
   "cell_type": "code",
   "execution_count": 4,
   "metadata": {},
   "outputs": [],
   "source": [
    "import urllib\n",
    "    \n",
    "def read_text():\n",
    "    text_file=open(\"C:/Users/MKAYA/Documents/a.txt\")\n",
    "    oku=text_file.read()\n",
    "    print(oku)\n",
    "    text_file.close()\n",
    "\n",
    "    kelime_kontrol(text_file)\n",
    "\n",
    "\n",
    "def kelime_kontrol(kelime):\n",
    "    baglanti=urllib.urlopen(\"http://www.wdyl.com/profanity?q=\"+kelime)\n",
    "    oku=baglanti.read()\n",
    "    print(oku)\n",
    "    baglanti.close()\n",
    "    if \"true\" in oku:\n",
    "        print(\"hatali kelime yok\")\n",
    "    elif \"false\" in oku:\n",
    "        print(\"hatali var\")\n",
    "    else:\n",
    "        print(\"duzeltiledi\")\n",
    "    read_text()"
   ]
  },
  {
   "cell_type": "code",
   "execution_count": null,
   "metadata": {},
   "outputs": [],
   "source": [
    "from twilio.rest import Client\n",
    "\n",
    "# Your Account SID from twilio.com/console\n",
    "account_sid = \"ACXXXXXXXXXXXXXXXXXXXXXXXXXXXXXXXX\"\n",
    "# Your Auth Token from twilio.com/console\n",
    "auth_token  = \"your_auth_token\"\n",
    "\n",
    "client = Client(account_sid, auth_token)\n",
    "\n",
    "message = client.messages.create(\n",
    "    to=\"+905325985469\", \n",
    "    from_=\"905325985469\",\n",
    "    body=\"Hello from Python!\")\n",
    "\n",
    "print(message.sid)"
   ]
  },
  {
   "cell_type": "code",
   "execution_count": 4,
   "metadata": {},
   "outputs": [],
   "source": [
    "import turtle\n",
    "\n",
    "def ucgen():\n",
    "    window=turtle.Screen()\n",
    "    window.bgcolor(\"red\") \n",
    "    ucg=turtle.Turtle()\n",
    "    ucg.forward(100)\n",
    "    ucg.right(120)\n",
    "    ucg.forward(100)\n",
    "    ucg.right(120)\n",
    "    ucg.forward(100)\n",
    "\n",
    "def dortgen():\n",
    "    dort=turtle.Turtle()\n",
    "    dort.forward(100)\n",
    "    dort.right(90)\n",
    "    dort.forward(100)\n",
    "    dort.right(90)\n",
    "    dort.forward(100)\n",
    "    dort.right(90)\n",
    "    dort.forward(100)\n",
    "    window.exitonclick()  \n",
    "    \n",
    "    ucgen() \n",
    "    dortgen()    \n",
    " \n",
    "\n"
   ]
  },
  {
   "cell_type": "code",
   "execution_count": 9,
   "metadata": {},
   "outputs": [
    {
     "data": {
      "image/png": "[encoded data removed]",
      "text/plain": [
       "<matplotlib.figure.Figure at 0x1bfc9955438>"
      ]
     },
     "metadata": {},
     "output_type": "display_data"
    }
   ],
   "source": [
    "# numpy ve mtplotlib kütüphaneleri ekleniyor.\n",
    "import numpy as np\n",
    "import matplotlib.pyplot as plt\n",
    "#vektör tanımlanıyor vektor\n",
    "vektor=np.array([1,1])\n",
    "w=np.array([-2,2])\n",
    "vw=vektor+w\n",
    "# ax değişkenine koordinat tanımlanıyor.\n",
    "ax=plt.axes()\n",
    "# Orjine (0,0) bir nokta konuyor.\n",
    "ax.plot(0,0,'or')\n",
    "\n",
    "#Tanımlanan vektör mavi renkli olarak koordinat düzleminde ok ile çizdiriliyor.\n",
    "ax.arrow(0,0,*vektor,color='b',linewidth=2.0,head_width=0.20,head_length=0.25)\n",
    "# w vektörü orjin 0,0 dan başlaycak şekilde çiziliyor.\n",
    "ax.arrow(0, 0, *w,color='c', linewidth=2.5, head_width=0.30, head_length=0.35)\n",
    "ax.arrow(0, 0, *vw,  linestyle='dotted', color='r', linewidth=2.5, head_width=0.30, head_length=0.35)\n",
    "\n",
    "# x ekseni için sınırlar tanımlanıyor.\n",
    "plt.xlim(-2,2)\n",
    "# x ekseni için görüntü aralığı ayarlanıyor (-2,3)\n",
    "major_xticks=np.arange(-3,4)\n",
    "ax.set_xticks(major_xticks)\n",
    "# y ekseni için sınırlar tanımlanıyor.\n",
    "plt.ylim(-1,2)\n",
    "major_yticks=np.arange(-1,5)\n",
    "ax.set_yticks(major_yticks)\n",
    "plt.grid(b=True,which='major')\n",
    "plt.show()"
   ]
  },
  {
   "cell_type": "code",
   "execution_count": 1,
   "metadata": {},
   "outputs": [
    {
     "data": {
      "text/plain": [
       "<matplotlib.figure.Figure at 0x1bfc9963940>"
      ]
     },
     "metadata": {},
     "output_type": "display_data"
    }
   ],
   "source": [
    "# Import NumPy and Matplotlib\n",
    "import numpy as np\n",
    "import matplotlib.pyplot as plt\n",
    "\n"
   ]
  },
  {
   "cell_type": "code",
   "execution_count": null,
   "metadata": {},
   "outputs": [],
   "source": []
  }
 ],
 "metadata": {
  "kernelspec": {
   "display_name": "Python 3",
   "language": "python",
   "name": "python3"
  },
  "language_info": {
   "codemirror_mode": {
    "name": "ipython",
    "version": 3
   },
   "file_extension": ".py",
   "mimetype": "text/x-python",
   "name": "python",
   "nbconvert_exporter": "python",
   "pygments_lexer": "ipython3",
   "version": "3.6.4"
  }
 },
 "nbformat": 4,
 "nbformat_minor": 2
}
